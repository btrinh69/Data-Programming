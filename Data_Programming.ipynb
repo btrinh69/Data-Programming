{
 "cells": [
  {
   "cell_type": "code",
   "execution_count": 1,
   "metadata": {},
   "outputs": [],
   "source": [
    "import os\n",
    "from collections import namedtuple"
   ]
  },
  {
   "cell_type": "code",
   "execution_count": 2,
   "metadata": {},
   "outputs": [
    {
     "data": {
      "text/html": [
       "<style>em { color: red; }</style> <style>.container { width:100% !important; }</style>"
      ],
      "text/plain": [
       "<IPython.core.display.HTML object>"
      ]
     },
     "metadata": {},
     "output_type": "display_data"
    }
   ],
   "source": [
    "# Just run this cell (it's just to make certain text red)\n",
    "from IPython.core.display import display, HTML\n",
    "display(HTML('<style>em { color: red; }</style> <style>.container { width:100% !important; }</style>'))"
   ]
  },
  {
   "cell_type": "markdown",
   "metadata": {},
   "source": [
    "## CSV: Analysing cereal.csv dataset\n",
    "### Problem 1: Write a function that *reads* in the *cereal.csv* file and stores the data as a variable. "
   ]
  },
  {
   "cell_type": "code",
   "execution_count": 3,
   "metadata": {},
   "outputs": [],
   "source": [
    "# Function to read csv file\n",
    "import csv\n",
    "\n",
    "def csv_reader(path):\n",
    "    f = open(path, encoding = 'utf-8')\n",
    "    r = csv.DictReader(f)\n",
    "    reader = list(r)\n",
    "    f.close()\n",
    "    for i in reader:\n",
    "        for j in i.keys():\n",
    "            if j not in ('name', 'mfr', 'type'):\n",
    "                i[j] = float(i[j])\n",
    "    return reader"
   ]
  },
  {
   "cell_type": "markdown",
   "metadata": {},
   "source": [
    "### Problem 2: What is the carbohydrate content in the cereal named \"Cheerios\"?"
   ]
  },
  {
   "cell_type": "code",
   "execution_count": 4,
   "metadata": {},
   "outputs": [
    {
     "data": {
      "text/plain": [
       "17.0"
      ]
     },
     "execution_count": 4,
     "metadata": {},
     "output_type": "execute_result"
    }
   ],
   "source": [
    "dataset = csv_reader('cereal.csv')\n",
    "carbo = ''\n",
    "for i in dataset:\n",
    "    if i['name'] == 'Cheerios':\n",
    "        carbo = i['carbo']\n",
    "        \n",
    "carbo"
   ]
  },
  {
   "cell_type": "markdown",
   "metadata": {},
   "source": [
    "### Problem 3: What is the cereal with the highest rating?"
   ]
  },
  {
   "cell_type": "code",
   "execution_count": 5,
   "metadata": {},
   "outputs": [
    {
     "data": {
      "text/plain": [
       "{'All-Bran with Extra Fiber': 93.704912}"
      ]
     },
     "execution_count": 5,
     "metadata": {},
     "output_type": "execute_result"
    }
   ],
   "source": [
    "def rank(data):\n",
    "    return data['rating']\n",
    "\n",
    "dataset.sort(key=rank, reverse=True)\n",
    "highest_rating = dict()\n",
    "highest_rating[dataset[0]['name']] = dataset[0]['rating']\n",
    "\n",
    "highest_rating"
   ]
  },
  {
   "cell_type": "markdown",
   "metadata": {},
   "source": [
    "### Problem 4: Write a function that computes the mininum, maximum, and average for a given numerical column of the cereal data and returns these data as a dictionary. Report the basic statistics for the fat column."
   ]
  },
  {
   "cell_type": "code",
   "execution_count": 6,
   "metadata": {},
   "outputs": [
    {
     "data": {
      "text/plain": [
       "{'min': 0.0, 'max': 5.0, 'mean': 1.0129870129870129}"
      ]
     },
     "execution_count": 6,
     "metadata": {},
     "output_type": "execute_result"
    }
   ],
   "source": [
    "def find_stats(col_name):\n",
    "    stat = {'min': 999, 'max': 0, 'mean': 0}\n",
    "    for i in dataset:\n",
    "        stat['mean'] += i[col_name]\n",
    "        if stat['min'] > i[col_name]:\n",
    "            stat['min'] = i[col_name]\n",
    "        if stat['max'] < i[col_name]:\n",
    "            stat['max'] = i[col_name]\n",
    "    stat['mean'] = stat['mean']/len(dataset)\n",
    "    return stat\n",
    "\n",
    "result = find_stats('fat')\n",
    "result"
   ]
  },
  {
   "cell_type": "markdown",
   "metadata": {},
   "source": [
    "### Problem 5: Find the *difference* between the *average sugar content* of all cereals that are rated below 30 and the ones above 50."
   ]
  },
  {
   "cell_type": "code",
   "execution_count": 7,
   "metadata": {},
   "outputs": [
    {
     "data": {
      "text/plain": [
       "8.783882783882785"
      ]
     },
     "execution_count": 7,
     "metadata": {},
     "output_type": "execute_result"
    }
   ],
   "source": [
    "avg_sugar_below_30 = 0 \n",
    "avg_sugar_above_50 = 0\n",
    "count_30 = 0\n",
    "count_50 = 0\n",
    "\n",
    "for i in dataset:\n",
    "    if i['rating'] < 30:\n",
    "        avg_sugar_below_30 += i['sugars']\n",
    "        count_30 += 1\n",
    "    elif i['rating'] > 50:\n",
    "        avg_sugar_above_50 += i['sugars']\n",
    "        count_50 += 1\n",
    "\n",
    "avg_sugar_below_30 /= count_30\n",
    "avg_sugar_above_50 /= count_50\n",
    "\n",
    "avg_sugar_below_30 - avg_sugar_above_50"
   ]
  },
  {
   "cell_type": "markdown",
   "metadata": {},
   "source": [
    "### Problem 6: What is the product name in the cereal data that has the third highest rating?"
   ]
  },
  {
   "cell_type": "code",
   "execution_count": 8,
   "metadata": {},
   "outputs": [
    {
     "data": {
      "text/plain": [
       "'Shredded Wheat spoon size'"
      ]
     },
     "execution_count": 8,
     "metadata": {},
     "output_type": "execute_result"
    }
   ],
   "source": [
    "dataset[2]['name']"
   ]
  },
  {
   "cell_type": "markdown",
   "metadata": {},
   "source": [
    "### Problem 7: What are *product names* that meet the following criteria:\n",
    "1. *2 ≤ fat ≤ 5*\n",
    "2. *rating ≥ 30*\n",
    "3. *100 ≤ sodium ≤ 200*"
   ]
  },
  {
   "cell_type": "code",
   "execution_count": 9,
   "metadata": {},
   "outputs": [
    {
     "data": {
      "text/plain": [
       "['Almond Delight',\n",
       " 'Clusters',\n",
       " \"Cracklin' Oat Bran\",\n",
       " 'Fruit & Fibre Dates; Walnuts; and Oats',\n",
       " 'Life',\n",
       " 'Muesli Raisins; Peaches; & Pecans',\n",
       " 'Mueslix Crispy Blend',\n",
       " 'Oatmeal Raisin Crisp',\n",
       " 'Raisin Nut Bran']"
      ]
     },
     "execution_count": 9,
     "metadata": {},
     "output_type": "execute_result"
    }
   ],
   "source": [
    "product = list()\n",
    "for i in dataset:\n",
    "    if 2 <= i['fat'] <= 5 and i['rating'] >= 30 and 100 <= i['sodium'] <= 200:\n",
    "        product.append(i['name'])\n",
    "product.sort()\n",
    "\n",
    "product"
   ]
  },
  {
   "cell_type": "markdown",
   "metadata": {},
   "source": [
    "### Problem 8: Write a function *find_word(keyword)* that returns a list of product names that have *keyword* in the product name.\n",
    "- Keyword match:\n",
    "  - should be *case insensitive*\n",
    "  - should be *complete match (not a substring match)*, with the exception of \"'\" and \"-\"\n",
    "- *Order the list* with the highest rated cereal first and the lowest rated cereal last\n",
    "- The match result should not consider substring match:\n",
    "  - Let's say keyword is \"Apple\", and product names are [\"Apple pie\", \"Apple's seed\", \"Applewatch\", \"apple-pay\", \"apples\"].\n",
    "  - In this example only \"Apple pie\", \"Apple's seed\", and \"apple-pay\" matches with keyword. \n",
    "  - \"Applewatch\" and \"apples\" are NOT qualified since there are additional letters concatenated to the keyword."
   ]
  },
  {
   "cell_type": "code",
   "execution_count": 10,
   "metadata": {},
   "outputs": [
    {
     "data": {
      "text/plain": [
       "[\"Shredded Wheat'n'Bran\",\n",
       " 'Shredded Wheat spoon size',\n",
       " 'Shredded Wheat',\n",
       " 'Cream of Wheat (Quick)',\n",
       " 'Puffed Wheat',\n",
       " 'Nutri-grain Wheat',\n",
       " 'Frosted Mini-Wheat',\n",
       " 'Wheat Chex',\n",
       " 'Crispy Wheat & Raisins']"
      ]
     },
     "execution_count": 10,
     "metadata": {},
     "output_type": "execute_result"
    }
   ],
   "source": [
    "import copy\n",
    "\n",
    "def rank_rate(data_with_key):\n",
    "    return data_with_key[1]\n",
    "\n",
    "def find_word(keyword):\n",
    "    list_ = list()\n",
    "    keyword = keyword.upper()\n",
    "    for i in dataset:\n",
    "        break1 = i['name'].upper()\n",
    "        break1 = break1.split(\" \")\n",
    "        temp1 = copy.deepcopy(break1)\n",
    "        for j in temp1:\n",
    "            break2 = j\n",
    "            break1.remove(j)\n",
    "            break2 = break2.split(\"-\")\n",
    "            temp2 = copy.deepcopy(break2)\n",
    "            for k in temp2:\n",
    "                break3 = k\n",
    "                break2.remove(k)\n",
    "                break3 = break3.split(\"'\")\n",
    "                break2 += break3\n",
    "            break1 += break2\n",
    "        for l in break1:\n",
    "            if keyword == l:\n",
    "                list_.append([i['name'], i['rating']])\n",
    "        list_.sort(key=rank_rate, reverse = True)\n",
    "        list_name = list()\n",
    "        for i in list_:\n",
    "            list_name.append(i[0])\n",
    "    return list_name\n",
    "\n",
    "# Result of find_word(\"Wheat\")?\n",
    "find_word(\"Wheat\")"
   ]
  },
  {
   "cell_type": "markdown",
   "metadata": {},
   "source": [
    "## HTML: Analysing netflix_titles.html (to be converted to Python data structure) dataset"
   ]
  },
  {
   "cell_type": "markdown",
   "metadata": {},
   "source": [
    "### Problem 1: Download and parse netflix_titles.html and write the data into a list-of-lists or list-of-dictionaries"
   ]
  },
  {
   "cell_type": "code",
   "execution_count": 11,
   "metadata": {},
   "outputs": [
    {
     "data": {
      "text/plain": [
       "['Norm of the North: King Sized Adventure',\n",
       " 'Jandino: Whatever it Takes',\n",
       " 'Transformers Prime']"
      ]
     },
     "execution_count": 11,
     "metadata": {},
     "output_type": "execute_result"
    }
   ],
   "source": [
    "import requests\n",
    "from bs4 import BeautifulSoup\n",
    "\n",
    "def download(filename, url):\n",
    "    # Do not download again if the file already exists\n",
    "    if os.path.exists(filename):\n",
    "        return (str(filename) + \" already exists!\")\n",
    "\n",
    "    # Download the file from URL and save it in `filename`\n",
    "    r = requests.get(url)\n",
    "    r.raise_for_status()\n",
    "    data = r.text\n",
    "    \n",
    "    f = open(filename, \"w\", encoding=\"utf-8\")\n",
    "    f.write(data)\n",
    "    f.close()\n",
    "\n",
    "    return (str(filename) + \" created!\")\n",
    "\n",
    "# Download\n",
    "download(\"netflix_titles.html\", \\\n",
    "         \"https://raw.githubusercontent.com/msyamkumar/cs220-projects/master/spring20/final/netflix_titles.html\")\n",
    "\n",
    "def parse_html_contents(html_file):\n",
    "    # To store the parsed data\n",
    "    netflix_data = []\n",
    "    \n",
    "    # Open and read the html file\n",
    "    f = open(html_file, encoding=\"utf-8\")\n",
    "    html = f.read()\n",
    "    f.close()\n",
    "    \n",
    "    # Create a BeautifulSoup type\n",
    "    page = BeautifulSoup(html, 'html.parser')\n",
    "    \n",
    "    # Find the dataset table\n",
    "    table = page.find(\"table\")\n",
    "                \n",
    "    # Find the rows in the table. Hint: separate your header versus data processing here.\n",
    "    row = table.find_all(\"tr\")\n",
    "    \n",
    "    # Find data for header row: you can generate a list of str here (see above output for reference)\n",
    "    header_html = row.pop(0)\n",
    "    header = []\n",
    "    for i in header_html.find_all(\"td\"):\n",
    "        header.append(i.get_text())\n",
    "    \n",
    "    # Find data for the remaining rows:\n",
    "    # To store this dataset, choose between list-of-lists or list-of-dictionaries\n",
    "    for i in row:\n",
    "        temp = dict()\n",
    "        h = iter(header)\n",
    "        for j in i.find_all(\"td\"):\n",
    "            temp[next(h)] = j.get_text()\n",
    "        netflix_data.append(temp)\n",
    "    \n",
    "    \n",
    "    return netflix_data \n",
    "    # If you want to return header data also, change the above line to something like this:\n",
    "    # return netflix_header, netflix_data\n",
    "    \n",
    "netflix_data = parse_html_contents(\"netflix_titles.html\") #Do not change these lines\n",
    "top_3_titles = []\n",
    "for row in netflix_data[:3]:\n",
    "    # Retrieve top 3 titles from your data structure (see above output for reference)\n",
    "    top_3_titles.append(row['title'])\n",
    "\n",
    "top_3_titles"
   ]
  },
  {
   "cell_type": "markdown",
   "metadata": {},
   "source": [
    "### Problem 2: List the first 10 TV shows' titles in the dataset."
   ]
  },
  {
   "cell_type": "code",
   "execution_count": 12,
   "metadata": {},
   "outputs": [
    {
     "data": {
      "text/plain": [
       "['Transformers Prime',\n",
       " 'Transformers: Robots in Disguise',\n",
       " 'Apaches',\n",
       " 'Fire Chasers',\n",
       " 'Castle of Stars',\n",
       " 'First and Last',\n",
       " \"Archibald's Next Big Thing\",\n",
       " 'The Spy',\n",
       " 'No Tomorrow',\n",
       " 'Frequency']"
      ]
     },
     "execution_count": 12,
     "metadata": {},
     "output_type": "execute_result"
    }
   ],
   "source": [
    "from collections import defaultdict\n",
    "\n",
    "# Function to bucketize data based on given key\n",
    "def bucketize_movie(dataset, key):\n",
    "    data = defaultdict(list)\n",
    "    for i in dataset:\n",
    "        data[i[key]].append(i)\n",
    "    return dict(data)\n",
    "\n",
    "buck = bucketize_movie(netflix_data, 'type')\n",
    "tv = []\n",
    "for i in buck['TV Show'][:10]:\n",
    "    tv.append(i['title'])\n",
    "tv"
   ]
  },
  {
   "cell_type": "markdown",
   "metadata": {},
   "source": [
    "### Problem 3: How many movies released after 2015 (inclusive) are in this dataset?"
   ]
  },
  {
   "cell_type": "code",
   "execution_count": 13,
   "metadata": {},
   "outputs": [
    {
     "data": {
      "text/plain": [
       "55"
      ]
     },
     "execution_count": 13,
     "metadata": {},
     "output_type": "execute_result"
    }
   ],
   "source": [
    "count = 0\n",
    "for i in buck['Movie']:\n",
    "    if int(i['release_year']) >= 2015:\n",
    "        count += 1\n",
    "        \n",
    "count"
   ]
  },
  {
   "cell_type": "markdown",
   "metadata": {},
   "source": [
    "## JSON: Analysing the movies data in the data folder."
   ]
  },
  {
   "cell_type": "markdown",
   "metadata": {},
   "source": [
    "### Problem 1: What is the *average rating* for the movie with id *34*?"
   ]
  },
  {
   "cell_type": "code",
   "execution_count": 14,
   "metadata": {},
   "outputs": [
    {
     "data": {
      "text/plain": [
       "4.333333333333333"
      ]
     },
     "execution_count": 14,
     "metadata": {},
     "output_type": "execute_result"
    }
   ],
   "source": [
    "import json\n",
    "\n",
    "# Iterate through every files in the directory\n",
    "path = os.listdir(os.path.join('data', 'users'))\n",
    "for i in range(len(path)):\n",
    "    path[i] = os.path.join('data', 'users', path[i])\n",
    "\n",
    "id_ = defaultdict(list)\n",
    "for i in path:\n",
    "    f = open(i, 'r', encoding = 'utf-8')\n",
    "    json_dict = json.loads(f.read())\n",
    "    for i in json_dict.keys():\n",
    "        id_[i].append(json_dict[i])\n",
    "    f.close()\n",
    "    \n",
    "id_ = dict(id_)\n",
    "for i in id_.keys():\n",
    "    for j in range(len(id_[i])):\n",
    "        id_[i][j] = float(id_[i][j])\n",
    "\n",
    "avg = 0\n",
    "for i in id_['34']:\n",
    "    avg += i\n",
    "    \n",
    "avg = avg/len(id_['34'])\n",
    "\n",
    "avg"
   ]
  },
  {
   "cell_type": "markdown",
   "metadata": {},
   "source": [
    "### Problem 2: What is the *minimum rating* for the movie *Batman (1989)*?"
   ]
  },
  {
   "cell_type": "code",
   "execution_count": 15,
   "metadata": {},
   "outputs": [
    {
     "data": {
      "text/plain": [
       "3.0"
      ]
     },
     "execution_count": 15,
     "metadata": {},
     "output_type": "execute_result"
    }
   ],
   "source": [
    "path = os.path.join('data', 'movies.csv')\n",
    "f = open(path, 'r', encoding = 'utf-8')\n",
    "movies = csv.DictReader(f)\n",
    "movies = list(movies)\n",
    "f.close()\n",
    "\n",
    "id_batman = ''\n",
    "for i in movies:\n",
    "    if i['title'] == 'Batman (1989)':\n",
    "        id_batman = i['movieId']\n",
    "        \n",
    "min(id_[id_batman])"
   ]
  },
  {
   "cell_type": "markdown",
   "metadata": {},
   "source": [
    "## SQLite Database: Analysing countries.db - same dataset as P10 (q24 to q27)."
   ]
  },
  {
   "cell_type": "code",
   "execution_count": 16,
   "metadata": {},
   "outputs": [],
   "source": [
    "import sqlite3\n",
    "import pandas as pd\n",
    "from pandas import DataFrame\n",
    "\n",
    "conn = sqlite3.connect('countries.db')\n",
    "capitals = pd.read_sql(\"SELECT * FROM capitals\", conn)\n",
    "countries = pd.read_sql(\"SELECT * FROM countries\", conn)"
   ]
  },
  {
   "cell_type": "markdown",
   "metadata": {},
   "source": [
    "### Problem 1: What is the *capital* of *Namibia*?"
   ]
  },
  {
   "cell_type": "code",
   "execution_count": 17,
   "metadata": {},
   "outputs": [
    {
     "data": {
      "text/plain": [
       "'Windhoek'"
      ]
     },
     "execution_count": 17,
     "metadata": {},
     "output_type": "execute_result"
    }
   ],
   "source": [
    "str(list(capitals[capitals['country'] == 'Namibia']['capital'])[0])"
   ]
  },
  {
   "cell_type": "markdown",
   "metadata": {},
   "source": [
    "### Problem 2: What is the distance between every pair of countries in the South American continent?"
   ]
  },
  {
   "cell_type": "code",
   "execution_count": 18,
   "metadata": {},
   "outputs": [],
   "source": [
    "import math\n",
    "\n",
    "# Calculate the Euclidean distance with latitude and longtitude as coordinates\n",
    "def dist(lat1, lon1, lat2, lon2):\n",
    "    lat1 = math.radians(lat1)\n",
    "    lon1 = math.radians(lon1)\n",
    "    lat2 = math.radians(lat2)\n",
    "    lon2 = math.radians(lon2)\n",
    "    dlon = lon2 - lon1\n",
    "    dlat = lat2 - lat1\n",
    "    a = math.sin(dlat/2)**2 + math.cos(lat1) * math.cos(lat2) * (math.sin(dlon/2)**2)\n",
    "    c = 2 * math.asin(min(1,a**0.5))\n",
    "    d = 3956 * c\n",
    "    return d"
   ]
  },
  {
   "cell_type": "code",
   "execution_count": 19,
   "metadata": {},
   "outputs": [
    {
     "data": {
      "text/html": [
       "<div>\n",
       "<style scoped>\n",
       "    .dataframe tbody tr th:only-of-type {\n",
       "        vertical-align: middle;\n",
       "    }\n",
       "\n",
       "    .dataframe tbody tr th {\n",
       "        vertical-align: top;\n",
       "    }\n",
       "\n",
       "    .dataframe thead th {\n",
       "        text-align: right;\n",
       "    }\n",
       "</style>\n",
       "<table border=\"1\" class=\"dataframe\">\n",
       "  <thead>\n",
       "    <tr style=\"text-align: right;\">\n",
       "      <th></th>\n",
       "      <th>Chile</th>\n",
       "      <th>Guyana</th>\n",
       "      <th>Colombia</th>\n",
       "      <th>Suriname</th>\n",
       "      <th>Brazil</th>\n",
       "      <th>Bolivia</th>\n",
       "      <th>Venezuela</th>\n",
       "      <th>Argentina</th>\n",
       "      <th>Peru</th>\n",
       "      <th>Ecuador</th>\n",
       "      <th>Uruguay</th>\n",
       "      <th>Paraguay</th>\n",
       "    </tr>\n",
       "  </thead>\n",
       "  <tbody>\n",
       "    <tr>\n",
       "      <th>Chile</th>\n",
       "      <td>NaN</td>\n",
       "      <td>2897.553095</td>\n",
       "      <td>2636.644599</td>\n",
       "      <td>2895.810776</td>\n",
       "      <td>1869.737031</td>\n",
       "      <td>1180.741903</td>\n",
       "      <td>3043.657689</td>\n",
       "      <td>690.784168</td>\n",
       "      <td>1531.480189</td>\n",
       "      <td>2350.207788</td>\n",
       "      <td>833.403262</td>\n",
       "      <td>963.635535</td>\n",
       "    </tr>\n",
       "    <tr>\n",
       "      <th>Guyana</th>\n",
       "      <td>2897.553095</td>\n",
       "      <td>NaN</td>\n",
       "      <td>1105.066312</td>\n",
       "      <td>215.336336</td>\n",
       "      <td>1709.071018</td>\n",
       "      <td>1747.772670</td>\n",
       "      <td>646.969843</td>\n",
       "      <td>2857.520462</td>\n",
       "      <td>1837.860149</td>\n",
       "      <td>1483.193753</td>\n",
       "      <td>2878.638295</td>\n",
       "      <td>2214.288286</td>\n",
       "    </tr>\n",
       "    <tr>\n",
       "      <th>Colombia</th>\n",
       "      <td>2636.644599</td>\n",
       "      <td>1105.066312</td>\n",
       "      <td>NaN</td>\n",
       "      <td>1303.405134</td>\n",
       "      <td>2275.516286</td>\n",
       "      <td>1512.119255</td>\n",
       "      <td>639.361118</td>\n",
       "      <td>2885.355610</td>\n",
       "      <td>1167.505359</td>\n",
       "      <td>451.004119</td>\n",
       "      <td>2962.230943</td>\n",
       "      <td>2337.615967</td>\n",
       "    </tr>\n",
       "    <tr>\n",
       "      <th>Suriname</th>\n",
       "      <td>2895.810776</td>\n",
       "      <td>215.336336</td>\n",
       "      <td>1303.405134</td>\n",
       "      <td>NaN</td>\n",
       "      <td>1572.674232</td>\n",
       "      <td>1778.772975</td>\n",
       "      <td>861.456786</td>\n",
       "      <td>2799.886429</td>\n",
       "      <td>1944.750017</td>\n",
       "      <td>1661.699022</td>\n",
       "      <td>2809.744412</td>\n",
       "      <td>2153.855447</td>\n",
       "    </tr>\n",
       "    <tr>\n",
       "      <th>Brazil</th>\n",
       "      <td>1869.737031</td>\n",
       "      <td>1709.071018</td>\n",
       "      <td>2275.516286</td>\n",
       "      <td>1572.674232</td>\n",
       "      <td>NaN</td>\n",
       "      <td>1342.297074</td>\n",
       "      <td>2228.690679</td>\n",
       "      <td>1459.139733</td>\n",
       "      <td>1967.770515</td>\n",
       "      <td>2344.584922</td>\n",
       "      <td>1412.096335</td>\n",
       "      <td>908.185710</td>\n",
       "    </tr>\n",
       "    <tr>\n",
       "      <th>Bolivia</th>\n",
       "      <td>1180.741903</td>\n",
       "      <td>1747.772670</td>\n",
       "      <td>1512.119255</td>\n",
       "      <td>1778.772975</td>\n",
       "      <td>1342.297074</td>\n",
       "      <td>NaN</td>\n",
       "      <td>1865.131181</td>\n",
       "      <td>1379.455701</td>\n",
       "      <td>669.926372</td>\n",
       "      <td>1326.758656</td>\n",
       "      <td>1467.253638</td>\n",
       "      <td>906.799256</td>\n",
       "    </tr>\n",
       "    <tr>\n",
       "      <th>Venezuela</th>\n",
       "      <td>3043.657689</td>\n",
       "      <td>646.969843</td>\n",
       "      <td>639.361118</td>\n",
       "      <td>861.456786</td>\n",
       "      <td>2228.690679</td>\n",
       "      <td>1865.131181</td>\n",
       "      <td>NaN</td>\n",
       "      <td>3157.624051</td>\n",
       "      <td>1705.418003</td>\n",
       "      <td>1088.064117</td>\n",
       "      <td>3207.352176</td>\n",
       "      <td>2544.799572</td>\n",
       "    </tr>\n",
       "    <tr>\n",
       "      <th>Argentina</th>\n",
       "      <td>690.784168</td>\n",
       "      <td>2857.520462</td>\n",
       "      <td>2885.355610</td>\n",
       "      <td>2799.886429</td>\n",
       "      <td>1459.139733</td>\n",
       "      <td>1379.455701</td>\n",
       "      <td>3157.624051</td>\n",
       "      <td>NaN</td>\n",
       "      <td>1936.465790</td>\n",
       "      <td>2696.149591</td>\n",
       "      <td>143.069943</td>\n",
       "      <td>646.036441</td>\n",
       "    </tr>\n",
       "    <tr>\n",
       "      <th>Peru</th>\n",
       "      <td>1531.480189</td>\n",
       "      <td>1837.860149</td>\n",
       "      <td>1167.505359</td>\n",
       "      <td>1944.750017</td>\n",
       "      <td>1967.770515</td>\n",
       "      <td>669.926372</td>\n",
       "      <td>1705.418003</td>\n",
       "      <td>1936.465790</td>\n",
       "      <td>NaN</td>\n",
       "      <td>823.054491</td>\n",
       "      <td>2046.571589</td>\n",
       "      <td>1558.635236</td>\n",
       "    </tr>\n",
       "    <tr>\n",
       "      <th>Ecuador</th>\n",
       "      <td>2350.207788</td>\n",
       "      <td>1483.193753</td>\n",
       "      <td>451.004119</td>\n",
       "      <td>1661.699022</td>\n",
       "      <td>2344.584922</td>\n",
       "      <td>1326.758656</td>\n",
       "      <td>1088.064117</td>\n",
       "      <td>2696.149591</td>\n",
       "      <td>823.054491</td>\n",
       "      <td>NaN</td>\n",
       "      <td>2791.196721</td>\n",
       "      <td>2218.650964</td>\n",
       "    </tr>\n",
       "    <tr>\n",
       "      <th>Uruguay</th>\n",
       "      <td>833.403262</td>\n",
       "      <td>2878.638295</td>\n",
       "      <td>2962.230943</td>\n",
       "      <td>2809.744412</td>\n",
       "      <td>1412.096335</td>\n",
       "      <td>1467.253638</td>\n",
       "      <td>3207.352176</td>\n",
       "      <td>143.069943</td>\n",
       "      <td>2046.571589</td>\n",
       "      <td>2791.196721</td>\n",
       "      <td>NaN</td>\n",
       "      <td>667.699386</td>\n",
       "    </tr>\n",
       "    <tr>\n",
       "      <th>Paraguay</th>\n",
       "      <td>963.635535</td>\n",
       "      <td>2214.288286</td>\n",
       "      <td>2337.615967</td>\n",
       "      <td>2153.855447</td>\n",
       "      <td>908.185710</td>\n",
       "      <td>906.799256</td>\n",
       "      <td>2544.799572</td>\n",
       "      <td>646.036441</td>\n",
       "      <td>1558.635236</td>\n",
       "      <td>2218.650964</td>\n",
       "      <td>667.699386</td>\n",
       "      <td>NaN</td>\n",
       "    </tr>\n",
       "  </tbody>\n",
       "</table>\n",
       "</div>"
      ],
      "text/plain": [
       "                 Chile       Guyana     Colombia     Suriname       Brazil  \\\n",
       "Chile              NaN  2897.553095  2636.644599  2895.810776  1869.737031   \n",
       "Guyana     2897.553095          NaN  1105.066312   215.336336  1709.071018   \n",
       "Colombia   2636.644599  1105.066312          NaN  1303.405134  2275.516286   \n",
       "Suriname   2895.810776   215.336336  1303.405134          NaN  1572.674232   \n",
       "Brazil     1869.737031  1709.071018  2275.516286  1572.674232          NaN   \n",
       "Bolivia    1180.741903  1747.772670  1512.119255  1778.772975  1342.297074   \n",
       "Venezuela  3043.657689   646.969843   639.361118   861.456786  2228.690679   \n",
       "Argentina   690.784168  2857.520462  2885.355610  2799.886429  1459.139733   \n",
       "Peru       1531.480189  1837.860149  1167.505359  1944.750017  1967.770515   \n",
       "Ecuador    2350.207788  1483.193753   451.004119  1661.699022  2344.584922   \n",
       "Uruguay     833.403262  2878.638295  2962.230943  2809.744412  1412.096335   \n",
       "Paraguay    963.635535  2214.288286  2337.615967  2153.855447   908.185710   \n",
       "\n",
       "               Bolivia    Venezuela    Argentina         Peru      Ecuador  \\\n",
       "Chile      1180.741903  3043.657689   690.784168  1531.480189  2350.207788   \n",
       "Guyana     1747.772670   646.969843  2857.520462  1837.860149  1483.193753   \n",
       "Colombia   1512.119255   639.361118  2885.355610  1167.505359   451.004119   \n",
       "Suriname   1778.772975   861.456786  2799.886429  1944.750017  1661.699022   \n",
       "Brazil     1342.297074  2228.690679  1459.139733  1967.770515  2344.584922   \n",
       "Bolivia            NaN  1865.131181  1379.455701   669.926372  1326.758656   \n",
       "Venezuela  1865.131181          NaN  3157.624051  1705.418003  1088.064117   \n",
       "Argentina  1379.455701  3157.624051          NaN  1936.465790  2696.149591   \n",
       "Peru        669.926372  1705.418003  1936.465790          NaN   823.054491   \n",
       "Ecuador    1326.758656  1088.064117  2696.149591   823.054491          NaN   \n",
       "Uruguay    1467.253638  3207.352176   143.069943  2046.571589  2791.196721   \n",
       "Paraguay    906.799256  2544.799572   646.036441  1558.635236  2218.650964   \n",
       "\n",
       "               Uruguay     Paraguay  \n",
       "Chile       833.403262   963.635535  \n",
       "Guyana     2878.638295  2214.288286  \n",
       "Colombia   2962.230943  2337.615967  \n",
       "Suriname   2809.744412  2153.855447  \n",
       "Brazil     1412.096335   908.185710  \n",
       "Bolivia    1467.253638   906.799256  \n",
       "Venezuela  3207.352176  2544.799572  \n",
       "Argentina   143.069943   646.036441  \n",
       "Peru       2046.571589  1558.635236  \n",
       "Ecuador    2791.196721  2218.650964  \n",
       "Uruguay            NaN   667.699386  \n",
       "Paraguay    667.699386          NaN  "
      ]
     },
     "execution_count": 19,
     "metadata": {},
     "output_type": "execute_result"
    }
   ],
   "source": [
    "#Collect data about South America countries\n",
    "sa = []\n",
    "for i in range(len(countries['continent'])):\n",
    "    if countries['continent'][i] == 'South America':\n",
    "        sa.append(countries['country'][i])\n",
    "    \n",
    "#Collect the index of each country's capital\n",
    "index = []\n",
    "for i in sa:\n",
    "    index.append([i, 0])\n",
    "for i in range(len(capitals['country'])):\n",
    "    for j in index:\n",
    "        if j[0] == capitals['country'][i]:\n",
    "            j[1] = i\n",
    "            break\n",
    "\n",
    "#Calculate the distance matrix\n",
    "_dist = dict()\n",
    "for i in index:\n",
    "    _dist[i[0]] = dict()\n",
    "    for j in index:\n",
    "        if j[0] != i[0]:\n",
    "            _dist[i[0]][j[0]] = dist(capitals['latitude'][i[1]], capitals['longitude'][i[1]], capitals['latitude'][j[1]], capitals['longitude'][j[1]])\n",
    "        else:\n",
    "            _dist[i[0]][j[0]] = math.nan\n",
    "\n",
    "temp = DataFrame(_dist)\n",
    "temp"
   ]
  },
  {
   "cell_type": "markdown",
   "metadata": {},
   "source": [
    "### Problem 3: What is the most central country in the South American continent?"
   ]
  },
  {
   "cell_type": "code",
   "execution_count": 20,
   "metadata": {},
   "outputs": [
    {
     "data": {
      "text/plain": [
       "'Bolivia'"
      ]
     },
     "execution_count": 20,
     "metadata": {},
     "output_type": "execute_result"
    }
   ],
   "source": [
    "temp.mean().sort_values().index[0]"
   ]
  },
  {
   "cell_type": "markdown",
   "metadata": {},
   "source": [
    "### Problem 4: How close is each country in South America to it's nearest neighbor?"
   ]
  },
  {
   "cell_type": "code",
   "execution_count": 21,
   "metadata": {},
   "outputs": [
    {
     "data": {
      "text/html": [
       "<div>\n",
       "<style scoped>\n",
       "    .dataframe tbody tr th:only-of-type {\n",
       "        vertical-align: middle;\n",
       "    }\n",
       "\n",
       "    .dataframe tbody tr th {\n",
       "        vertical-align: top;\n",
       "    }\n",
       "\n",
       "    .dataframe thead th {\n",
       "        text-align: right;\n",
       "    }\n",
       "</style>\n",
       "<table border=\"1\" class=\"dataframe\">\n",
       "  <thead>\n",
       "    <tr style=\"text-align: right;\">\n",
       "      <th></th>\n",
       "      <th>nearest</th>\n",
       "      <th>distance</th>\n",
       "    </tr>\n",
       "  </thead>\n",
       "  <tbody>\n",
       "    <tr>\n",
       "      <th>Chile</th>\n",
       "      <td>Argentina</td>\n",
       "      <td>690.784168</td>\n",
       "    </tr>\n",
       "    <tr>\n",
       "      <th>Guyana</th>\n",
       "      <td>Suriname</td>\n",
       "      <td>215.336336</td>\n",
       "    </tr>\n",
       "    <tr>\n",
       "      <th>Colombia</th>\n",
       "      <td>Ecuador</td>\n",
       "      <td>451.004119</td>\n",
       "    </tr>\n",
       "    <tr>\n",
       "      <th>Suriname</th>\n",
       "      <td>Guyana</td>\n",
       "      <td>215.336336</td>\n",
       "    </tr>\n",
       "    <tr>\n",
       "      <th>Brazil</th>\n",
       "      <td>Paraguay</td>\n",
       "      <td>908.185710</td>\n",
       "    </tr>\n",
       "    <tr>\n",
       "      <th>Bolivia</th>\n",
       "      <td>Peru</td>\n",
       "      <td>669.926372</td>\n",
       "    </tr>\n",
       "    <tr>\n",
       "      <th>Venezuela</th>\n",
       "      <td>Colombia</td>\n",
       "      <td>639.361118</td>\n",
       "    </tr>\n",
       "    <tr>\n",
       "      <th>Argentina</th>\n",
       "      <td>Uruguay</td>\n",
       "      <td>143.069943</td>\n",
       "    </tr>\n",
       "    <tr>\n",
       "      <th>Peru</th>\n",
       "      <td>Bolivia</td>\n",
       "      <td>669.926372</td>\n",
       "    </tr>\n",
       "    <tr>\n",
       "      <th>Ecuador</th>\n",
       "      <td>Colombia</td>\n",
       "      <td>451.004119</td>\n",
       "    </tr>\n",
       "    <tr>\n",
       "      <th>Uruguay</th>\n",
       "      <td>Argentina</td>\n",
       "      <td>143.069943</td>\n",
       "    </tr>\n",
       "    <tr>\n",
       "      <th>Paraguay</th>\n",
       "      <td>Argentina</td>\n",
       "      <td>646.036441</td>\n",
       "    </tr>\n",
       "  </tbody>\n",
       "</table>\n",
       "</div>"
      ],
      "text/plain": [
       "             nearest    distance\n",
       "Chile      Argentina  690.784168\n",
       "Guyana      Suriname  215.336336\n",
       "Colombia     Ecuador  451.004119\n",
       "Suriname      Guyana  215.336336\n",
       "Brazil      Paraguay  908.185710\n",
       "Bolivia         Peru  669.926372\n",
       "Venezuela   Colombia  639.361118\n",
       "Argentina    Uruguay  143.069943\n",
       "Peru         Bolivia  669.926372\n",
       "Ecuador     Colombia  451.004119\n",
       "Uruguay    Argentina  143.069943\n",
       "Paraguay   Argentina  646.036441"
      ]
     },
     "execution_count": 21,
     "metadata": {},
     "output_type": "execute_result"
    }
   ],
   "source": [
    "nearest = {'nearest': {}, 'distance':{}}\n",
    "for i in temp.index:\n",
    "    nearest['nearest'][i] = temp[i].idxmin()\n",
    "    nearest['distance'][i] = temp[i].min()\n",
    "\n",
    "DataFrame(nearest)"
   ]
  },
  {
   "cell_type": "markdown",
   "metadata": {},
   "source": [
    "### Problem 5: What are the top 8 countries that have the largest real GDP? (answer with a plot)"
   ]
  },
  {
   "cell_type": "code",
   "execution_count": 22,
   "metadata": {},
   "outputs": [
    {
     "data": {
      "text/plain": [
       "<matplotlib.axes._subplots.AxesSubplot at 0x1ff529fb548>"
      ]
     },
     "execution_count": 22,
     "metadata": {},
     "output_type": "execute_result"
    },
    {
     "data": {
      "image/png": "[encoded data removed]",
      "text/plain": [
       "<Figure size 432x288 with 1 Axes>"
      ]
     },
     "metadata": {
      "needs_background": "light"
     },
     "output_type": "display_data"
    }
   ],
   "source": [
    "cont = pd.read_sql(\"\"\"\n",
    "SELECT country, \"gdp-per-capita\" * population / 1000000000.0 as \"real GDP (billion)\"\n",
    "FROM countries\n",
    "ORDER BY \"real GDP (billion)\" DESC\n",
    "\n",
    "\"\"\", conn)\n",
    "\n",
    "temp = cont.set_index('country')[:8][\"real GDP (billion)\"]\n",
    "temp[\"Others\"] = cont.set_index('country')[8:][\"real GDP (billion)\"].sum()\n",
    "\n",
    "ax = temp.plot.bar(color='0')\n",
    "ax.set_xlabel('country')\n",
    "ax.set_ylabel(\"real GDP (billion)\")\n",
    "\n",
    "#Q22\n",
    "ax"
   ]
  },
  {
   "cell_type": "markdown",
   "metadata": {},
   "source": [
    "### Problem 6: What is the relationship between GDP per capita and inverse of infant-mortality?"
   ]
  },
  {
   "cell_type": "code",
   "execution_count": 23,
   "metadata": {},
   "outputs": [
    {
     "data": {
      "text/plain": [
       "<matplotlib.axes._subplots.AxesSubplot at 0x1ff54b430c8>"
      ]
     },
     "execution_count": 23,
     "metadata": {},
     "output_type": "execute_result"
    },
    {
     "data": {
      "image/png": "[encoded data removed]",
      "text/plain": [
       "<Figure size 720x432 with 1 Axes>"
      ]
     },
     "metadata": {
      "needs_background": "light"
     },
     "output_type": "display_data"
    }
   ],
   "source": [
    "cont = pd.read_sql(\"\"\"\n",
    "SELECT \"gdp-per-capita\", 1 / \"infant-mortality\" as \"inverse\"\n",
    "FROM countries\n",
    "\"\"\", conn)\n",
    "\n",
    "gdp_net = cont.set_index(\"gdp-per-capita\")[\"inverse\"]\n",
    "#Q27\n",
    "ax = cont.plot.scatter(x=\"gdp-per-capita\", y=\"inverse\", c='black', figsize=(10,6))\n",
    "ax"
   ]
  },
  {
   "cell_type": "markdown",
   "metadata": {},
   "source": [
    "### Problem 7: fit a y = m * x + n line to the scatter plot in question 27 using the least-squares method; what are the coefficients m and n?"
   ]
  },
  {
   "cell_type": "code",
   "execution_count": 24,
   "metadata": {},
   "outputs": [
    {
     "data": {
      "text/plain": [
       "(6.482983154848297e-06, 0.013237849092120857)"
      ]
     },
     "execution_count": 24,
     "metadata": {},
     "output_type": "execute_result"
    }
   ],
   "source": [
    "import numpy as np\n",
    "\n",
    "cont[\"1\"] = 1\n",
    "res = np.linalg.lstsq(cont[[\"gdp-per-capita\", \"1\"]], cont[\"inverse\"], rcond=None)\n",
    "\n",
    "# res is a tuple: (COEFFICIENTS, VALUE, VALUE, VALUE)\n",
    "coefficients = res[0] # coefficients is (m,n:\n",
    "m = coefficients[0] # slope\n",
    "n = coefficients[1] # intercept\n",
    "#Q28\n",
    "(m, n)"
   ]
  },
  {
   "cell_type": "markdown",
   "metadata": {},
   "source": [
    "### Problem 8: When gdp-per-capita = 50000, what is the expected value for infant-mortality?"
   ]
  },
  {
   "cell_type": "code",
   "execution_count": 25,
   "metadata": {},
   "outputs": [
    {
     "data": {
      "text/plain": [
       "2.963955279079342"
      ]
     },
     "execution_count": 25,
     "metadata": {},
     "output_type": "execute_result"
    }
   ],
   "source": [
    "1/(m*50000+n)"
   ]
  },
  {
   "cell_type": "markdown",
   "metadata": {},
   "source": [
    "### Problem 9: plot the regression line to the scatter plot"
   ]
  },
  {
   "cell_type": "code",
   "execution_count": 26,
   "metadata": {},
   "outputs": [
    {
     "data": {
      "text/plain": [
       "<matplotlib.axes._subplots.AxesSubplot at 0x1ff54cfe7c8>"
      ]
     },
     "execution_count": 26,
     "metadata": {},
     "output_type": "execute_result"
    },
    {
     "data": {
      "image/png": "[encoded data removed]",
      "text/plain": [
       "<Figure size 720x432 with 1 Axes>"
      ]
     },
     "metadata": {
      "needs_background": "light"
     },
     "output_type": "display_data"
    }
   ],
   "source": [
    "ax = cont.plot.scatter(x=\"gdp-per-capita\", y=\"inverse\", c='black', figsize=(10,6))\n",
    "\n",
    "cont[\"fit\"] = cont[\"gdp-per-capita\"] * m + n\n",
    "#Q30\n",
    "cont.plot.line(x=\"gdp-per-capita\", y='fit', c='red', ax=ax, figsize=(10,6))"
   ]
  },
  {
   "cell_type": "markdown",
   "metadata": {},
   "source": [
    "### Problem 10: What is the *population* of *each continent*?"
   ]
  },
  {
   "cell_type": "code",
   "execution_count": 27,
   "metadata": {},
   "outputs": [
    {
     "data": {
      "text/html": [
       "<div>\n",
       "<style scoped>\n",
       "    .dataframe tbody tr th:only-of-type {\n",
       "        vertical-align: middle;\n",
       "    }\n",
       "\n",
       "    .dataframe tbody tr th {\n",
       "        vertical-align: top;\n",
       "    }\n",
       "\n",
       "    .dataframe thead th {\n",
       "        text-align: right;\n",
       "    }\n",
       "</style>\n",
       "<table border=\"1\" class=\"dataframe\">\n",
       "  <thead>\n",
       "    <tr style=\"text-align: right;\">\n",
       "      <th></th>\n",
       "      <th>continent</th>\n",
       "      <th>population</th>\n",
       "    </tr>\n",
       "  </thead>\n",
       "  <tbody>\n",
       "    <tr>\n",
       "      <th>0</th>\n",
       "      <td>Asia</td>\n",
       "      <td>3739902863</td>\n",
       "    </tr>\n",
       "    <tr>\n",
       "      <th>1</th>\n",
       "      <td>Africa</td>\n",
       "      <td>807299195</td>\n",
       "    </tr>\n",
       "    <tr>\n",
       "      <th>2</th>\n",
       "      <td>Europe</td>\n",
       "      <td>792053486</td>\n",
       "    </tr>\n",
       "    <tr>\n",
       "      <th>3</th>\n",
       "      <td>North America</td>\n",
       "      <td>515041558</td>\n",
       "    </tr>\n",
       "    <tr>\n",
       "      <th>4</th>\n",
       "      <td>South America</td>\n",
       "      <td>375441666</td>\n",
       "    </tr>\n",
       "    <tr>\n",
       "      <th>5</th>\n",
       "      <td>Australia</td>\n",
       "      <td>32163025</td>\n",
       "    </tr>\n",
       "  </tbody>\n",
       "</table>\n",
       "</div>"
      ],
      "text/plain": [
       "       continent  population\n",
       "0           Asia  3739902863\n",
       "1         Africa   807299195\n",
       "2         Europe   792053486\n",
       "3  North America   515041558\n",
       "4  South America   375441666\n",
       "5      Australia    32163025"
      ]
     },
     "execution_count": 27,
     "metadata": {},
     "output_type": "execute_result"
    }
   ],
   "source": [
    "cont = pd.read_sql(\"\"\"\n",
    "SELECT continent, SUM(population) as \"population\" \n",
    "FROM countries \n",
    "GROUP BY continent\n",
    "ORDER BY \"population\" DESC\n",
    "\"\"\", conn)\n",
    "\n",
    "cont"
   ]
  },
  {
   "cell_type": "markdown",
   "metadata": {},
   "source": [
    "### Problem 11: *Plot the total population* of each continent."
   ]
  },
  {
   "cell_type": "code",
   "execution_count": 28,
   "metadata": {},
   "outputs": [
    {
     "data": {
      "text/plain": [
       "Text(0.5, 0, 'continent')"
      ]
     },
     "execution_count": 28,
     "metadata": {},
     "output_type": "execute_result"
    },
    {
     "data": {
      "image/png": "[encoded data removed]",
      "text/plain": [
       "<Figure size 432x288 with 1 Axes>"
      ]
     },
     "metadata": {
      "needs_background": "light"
     },
     "output_type": "display_data"
    }
   ],
   "source": [
    "ax = cont.sort_values(by=['continent']).set_index('continent')['population'].plot.bar(color = '0')\n",
    "ax.set_ylabel('population')\n",
    "ax.set_xlabel('continent')"
   ]
  },
  {
   "cell_type": "markdown",
   "metadata": {},
   "source": [
    "### Problem 13: What is the *population density (population / area)* of all the *top 7* most dense *countries in Europe*?"
   ]
  },
  {
   "cell_type": "code",
   "execution_count": 29,
   "metadata": {},
   "outputs": [
    {
     "data": {
      "text/html": [
       "<div>\n",
       "<style scoped>\n",
       "    .dataframe tbody tr th:only-of-type {\n",
       "        vertical-align: middle;\n",
       "    }\n",
       "\n",
       "    .dataframe tbody tr th {\n",
       "        vertical-align: top;\n",
       "    }\n",
       "\n",
       "    .dataframe thead th {\n",
       "        text-align: right;\n",
       "    }\n",
       "</style>\n",
       "<table border=\"1\" class=\"dataframe\">\n",
       "  <thead>\n",
       "    <tr style=\"text-align: right;\">\n",
       "      <th></th>\n",
       "      <th>country</th>\n",
       "      <th>population density</th>\n",
       "    </tr>\n",
       "  </thead>\n",
       "  <tbody>\n",
       "    <tr>\n",
       "      <th>0</th>\n",
       "      <td>Monaco</td>\n",
       "      <td>16271</td>\n",
       "    </tr>\n",
       "    <tr>\n",
       "      <th>1</th>\n",
       "      <td>Malta</td>\n",
       "      <td>1266</td>\n",
       "    </tr>\n",
       "    <tr>\n",
       "      <th>2</th>\n",
       "      <td>San Marino</td>\n",
       "      <td>479</td>\n",
       "    </tr>\n",
       "    <tr>\n",
       "      <th>3</th>\n",
       "      <td>Netherlands</td>\n",
       "      <td>397</td>\n",
       "    </tr>\n",
       "    <tr>\n",
       "      <th>4</th>\n",
       "      <td>Belgium</td>\n",
       "      <td>339</td>\n",
       "    </tr>\n",
       "    <tr>\n",
       "      <th>5</th>\n",
       "      <td>United Kingdom</td>\n",
       "      <td>247</td>\n",
       "    </tr>\n",
       "    <tr>\n",
       "      <th>6</th>\n",
       "      <td>Germany</td>\n",
       "      <td>230</td>\n",
       "    </tr>\n",
       "  </tbody>\n",
       "</table>\n",
       "</div>"
      ],
      "text/plain": [
       "          country  population density\n",
       "0          Monaco               16271\n",
       "1           Malta                1266\n",
       "2      San Marino                 479\n",
       "3     Netherlands                 397\n",
       "4         Belgium                 339\n",
       "5  United Kingdom                 247\n",
       "6         Germany                 230"
      ]
     },
     "execution_count": 29,
     "metadata": {},
     "output_type": "execute_result"
    }
   ],
   "source": [
    "density = pd.read_sql(\"\"\"\n",
    "SELECT country, continent,  population / area as \"population density\"\n",
    "FROM countries\n",
    "ORDER BY \"population density\" DESC\n",
    "\"\"\", conn)\n",
    "\n",
    "d = density[density['continent'] == 'Europe'][['country', 'population density']].set_index('country')[:7].reset_index()\n",
    "d"
   ]
  },
  {
   "cell_type": "code",
   "execution_count": 30,
   "metadata": {},
   "outputs": [],
   "source": [
    "conn.close()"
   ]
  }
 ],
 "metadata": {
  "kernelspec": {
   "display_name": "Python 3",
   "language": "python",
   "name": "python3"
  },
  "language_info": {
   "codemirror_mode": {
    "name": "ipython",
    "version": 3
   },
   "file_extension": ".py",
   "mimetype": "text/x-python",
   "name": "python",
   "nbconvert_exporter": "python",
   "pygments_lexer": "ipython3",
   "version": "3.7.6"
  }
 },
 "nbformat": 4,
 "nbformat_minor": 4
}
